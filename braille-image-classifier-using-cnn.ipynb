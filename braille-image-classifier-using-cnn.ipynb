{
 "cells": [
  {
   "cell_type": "markdown",
   "metadata": {},
   "source": [
    "# Braille Classifier"
   ]
  },
  {
   "cell_type": "code",
   "execution_count": 1,
   "metadata": {
    "_cell_guid": "79c7e3d0-c299-4dcb-8224-4455121ee9b0",
    "_uuid": "d629ff2d2480ee46fbb7e2d37f6b5fab8052498a",
    "execution": {
     "iopub.execute_input": "2023-12-20T09:42:39.454724Z",
     "iopub.status.busy": "2023-12-20T09:42:39.454084Z",
     "iopub.status.idle": "2023-12-20T09:42:40.106693Z",
     "shell.execute_reply": "2023-12-20T09:42:40.105219Z",
     "shell.execute_reply.started": "2023-12-20T09:42:39.454623Z"
    }
   },
   "outputs": [],
   "source": [
    "import os\n",
    "import numpy as np\n",
    "import pandas as pd\n",
    "from shutil import copyfile"
   ]
  },
  {
   "cell_type": "code",
   "execution_count": 2,
   "metadata": {
    "execution": {
     "iopub.execute_input": "2023-12-20T09:42:40.109375Z",
     "iopub.status.busy": "2023-12-20T09:42:40.109026Z",
     "iopub.status.idle": "2023-12-20T09:42:46.079974Z",
     "shell.execute_reply": "2023-12-20T09:42:46.078906Z",
     "shell.execute_reply.started": "2023-12-20T09:42:40.109292Z"
    }
   },
   "outputs": [],
   "source": [
    "os.mkdir('./images/')\n",
    "alpha = 'a'\n",
    "for i in range(0, 26): \n",
    "    os.mkdir('./images/' + alpha)\n",
    "    alpha = chr(ord(alpha) + 1)\n",
    "\n",
    "rootdir = '/kaggle/input/braille-character-dataset/Braille Dataset/Braille Dataset/'\n",
    "for file in os.listdir(rootdir):\n",
    "    letter = file[0]\n",
    "    copyfile(rootdir+file, './images/' + letter + '/' + file)"
   ]
  },
  {
   "cell_type": "code",
   "execution_count": 3,
   "metadata": {
    "execution": {
     "iopub.execute_input": "2023-12-20T09:42:46.081965Z",
     "iopub.status.busy": "2023-12-20T09:42:46.081530Z",
     "iopub.status.idle": "2023-12-20T09:42:52.033329Z",
     "shell.execute_reply": "2023-12-20T09:42:52.032553Z",
     "shell.execute_reply.started": "2023-12-20T09:42:46.081920Z"
    }
   },
   "outputs": [
    {
     "name": "stderr",
     "output_type": "stream",
     "text": [
      "Using TensorFlow backend.\n"
     ]
    },
    {
     "name": "stdout",
     "output_type": "stream",
     "text": [
      "Found 1248 images belonging to 26 classes.\n",
      "Found 312 images belonging to 26 classes.\n"
     ]
    }
   ],
   "source": [
    "from keras.preprocessing.image import ImageDataGenerator\n",
    "datagen = ImageDataGenerator(rotation_range=20,\n",
    "                             shear_range=10,\n",
    "                             validation_split=0.2)\n",
    "\n",
    "train_generator = datagen.flow_from_directory('./images/',\n",
    "                                              target_size=(28,28),\n",
    "                                              subset='training')\n",
    "\n",
    "val_generator = datagen.flow_from_directory('./images/',\n",
    "                                            target_size=(28,28),\n",
    "                                            subset='validation')"
   ]
  },
  {
   "cell_type": "code",
   "execution_count": 4,
   "metadata": {
    "execution": {
     "iopub.execute_input": "2023-12-20T09:42:52.034694Z",
     "iopub.status.busy": "2023-12-20T09:42:52.034480Z",
     "iopub.status.idle": "2023-12-20T09:44:05.742584Z",
     "shell.execute_reply": "2023-12-20T09:44:05.741382Z",
     "shell.execute_reply.started": "2023-12-20T09:42:52.034653Z"
    }
   },
   "outputs": [
    {
     "name": "stdout",
     "output_type": "stream",
     "text": [
      "Epoch 1/666\n",
      "39/39 [==============================] - 3s 64ms/step - loss: 3.2825 - accuracy: 0.0361 - val_loss: 3.2648 - val_accuracy: 0.0481\n",
      "Epoch 2/666\n",
      "39/39 [==============================] - 2s 55ms/step - loss: 3.1412 - accuracy: 0.0865 - val_loss: 3.1822 - val_accuracy: 0.1699\n",
      "Epoch 3/666\n",
      "39/39 [==============================] - 2s 54ms/step - loss: 2.6646 - accuracy: 0.2332 - val_loss: 2.5187 - val_accuracy: 0.3237\n",
      "Epoch 4/666\n",
      "39/39 [==============================] - 2s 55ms/step - loss: 2.0620 - accuracy: 0.3854 - val_loss: 1.6555 - val_accuracy: 0.4263\n",
      "Epoch 5/666\n",
      "39/39 [==============================] - 2s 54ms/step - loss: 1.6604 - accuracy: 0.4984 - val_loss: 1.4442 - val_accuracy: 0.5673\n",
      "Epoch 6/666\n",
      "39/39 [==============================] - 2s 52ms/step - loss: 1.3643 - accuracy: 0.5809 - val_loss: 1.3183 - val_accuracy: 0.6186\n",
      "Epoch 7/666\n",
      "39/39 [==============================] - 2s 50ms/step - loss: 1.1927 - accuracy: 0.6530 - val_loss: 0.8214 - val_accuracy: 0.6891\n",
      "Epoch 8/666\n",
      "39/39 [==============================] - 2s 52ms/step - loss: 1.1312 - accuracy: 0.6859 - val_loss: 0.9734 - val_accuracy: 0.6442\n",
      "Epoch 9/666\n",
      "39/39 [==============================] - 2s 50ms/step - loss: 0.9473 - accuracy: 0.7292 - val_loss: 1.4578 - val_accuracy: 0.6603\n",
      "Epoch 10/666\n",
      "39/39 [==============================] - 2s 53ms/step - loss: 0.7905 - accuracy: 0.7724 - val_loss: 0.5817 - val_accuracy: 0.7596\n",
      "Epoch 11/666\n",
      "39/39 [==============================] - 2s 55ms/step - loss: 0.7077 - accuracy: 0.7949 - val_loss: 0.9019 - val_accuracy: 0.7949\n",
      "Epoch 12/666\n",
      "39/39 [==============================] - 2s 51ms/step - loss: 0.6971 - accuracy: 0.7941 - val_loss: 1.0468 - val_accuracy: 0.7212\n",
      "Epoch 13/666\n",
      "39/39 [==============================] - 2s 54ms/step - loss: 0.6862 - accuracy: 0.7997 - val_loss: 0.4792 - val_accuracy: 0.7436\n",
      "Epoch 14/666\n",
      "39/39 [==============================] - 2s 52ms/step - loss: 0.6272 - accuracy: 0.8229 - val_loss: 0.7038 - val_accuracy: 0.7821\n",
      "Epoch 15/666\n",
      "39/39 [==============================] - 2s 54ms/step - loss: 0.5253 - accuracy: 0.8470 - val_loss: 0.8946 - val_accuracy: 0.7692\n",
      "Epoch 16/666\n",
      "39/39 [==============================] - 2s 53ms/step - loss: 0.5045 - accuracy: 0.8478 - val_loss: 0.4973 - val_accuracy: 0.8077\n",
      "Epoch 17/666\n",
      "39/39 [==============================] - 2s 54ms/step - loss: 0.4925 - accuracy: 0.8502 - val_loss: 0.7089 - val_accuracy: 0.7981\n",
      "Epoch 18/666\n",
      "39/39 [==============================] - 2s 54ms/step - loss: 0.5353 - accuracy: 0.8373 - val_loss: 0.3161 - val_accuracy: 0.8654\n",
      "Epoch 19/666\n",
      "39/39 [==============================] - 2s 52ms/step - loss: 0.5351 - accuracy: 0.8558 - val_loss: 0.4105 - val_accuracy: 0.8173\n",
      "Epoch 20/666\n",
      "39/39 [==============================] - 2s 54ms/step - loss: 0.5147 - accuracy: 0.8470 - val_loss: 0.2798 - val_accuracy: 0.8429\n",
      "Epoch 21/666\n",
      "39/39 [==============================] - 2s 51ms/step - loss: 0.3941 - accuracy: 0.8894 - val_loss: 0.5207 - val_accuracy: 0.8397\n",
      "Epoch 22/666\n",
      "39/39 [==============================] - 2s 53ms/step - loss: 0.4085 - accuracy: 0.8742 - val_loss: 0.7013 - val_accuracy: 0.8590\n",
      "Epoch 23/666\n",
      "39/39 [==============================] - 2s 56ms/step - loss: 0.3575 - accuracy: 0.8886 - val_loss: 0.6714 - val_accuracy: 0.7853\n",
      "Epoch 24/666\n",
      "39/39 [==============================] - 2s 53ms/step - loss: 0.5057 - accuracy: 0.8454 - val_loss: 0.4551 - val_accuracy: 0.8526\n",
      "Epoch 25/666\n",
      "39/39 [==============================] - 2s 56ms/step - loss: 0.3522 - accuracy: 0.9022 - val_loss: 0.8803 - val_accuracy: 0.8782\n",
      "Epoch 26/666\n",
      "39/39 [==============================] - 2s 59ms/step - loss: 0.3607 - accuracy: 0.8902 - val_loss: 0.2569 - val_accuracy: 0.8494\n",
      "Epoch 27/666\n",
      "39/39 [==============================] - 2s 54ms/step - loss: 0.3418 - accuracy: 0.9046 - val_loss: 0.3708 - val_accuracy: 0.8910\n",
      "Epoch 28/666\n",
      "39/39 [==============================] - 2s 55ms/step - loss: 0.2774 - accuracy: 0.9175 - val_loss: 0.5032 - val_accuracy: 0.8590\n",
      "Epoch 29/666\n",
      "39/39 [==============================] - 2s 55ms/step - loss: 0.3949 - accuracy: 0.8918 - val_loss: 0.2668 - val_accuracy: 0.8686\n",
      "Epoch 30/666\n",
      "39/39 [==============================] - 2s 57ms/step - loss: 0.3004 - accuracy: 0.9159 - val_loss: 0.4540 - val_accuracy: 0.8782\n",
      "Epoch 31/666\n",
      "39/39 [==============================] - 2s 55ms/step - loss: 0.2860 - accuracy: 0.9191 - val_loss: 0.4424 - val_accuracy: 0.9135\n",
      "Epoch 32/666\n",
      "39/39 [==============================] - 2s 53ms/step - loss: 0.2425 - accuracy: 0.9279 - val_loss: 0.0812 - val_accuracy: 0.9006\n",
      "Epoch 33/666\n",
      "39/39 [==============================] - 2s 52ms/step - loss: 0.2195 - accuracy: 0.9335 - val_loss: 0.1688 - val_accuracy: 0.9006\n",
      "Epoch 34/666\n",
      "39/39 [==============================] - 2s 53ms/step - loss: 0.2648 - accuracy: 0.9295 - val_loss: 0.2291 - val_accuracy: 0.9199\n",
      "Epoch 35/666\n",
      "39/39 [==============================] - 2s 53ms/step - loss: 0.2263 - accuracy: 0.9359 - val_loss: 0.1960 - val_accuracy: 0.8686\n",
      "Epoch 36/666\n",
      "39/39 [==============================] - 2s 54ms/step - loss: 0.2516 - accuracy: 0.9279 - val_loss: 0.6533 - val_accuracy: 0.8814\n",
      "Epoch 37/666\n",
      "39/39 [==============================] - 2s 54ms/step - loss: 0.2271 - accuracy: 0.9343 - val_loss: 0.3286 - val_accuracy: 0.8974\n",
      "Epoch 38/666\n",
      "39/39 [==============================] - 2s 51ms/step - loss: 0.2225 - accuracy: 0.9423 - val_loss: 0.8310 - val_accuracy: 0.9006\n",
      "Epoch 39/666\n",
      "39/39 [==============================] - 2s 54ms/step - loss: 0.2916 - accuracy: 0.9127 - val_loss: 0.1726 - val_accuracy: 0.9199\n",
      "Epoch 40/666\n",
      "39/39 [==============================] - 2s 58ms/step - loss: 0.3039 - accuracy: 0.9087 - val_loss: 0.1544 - val_accuracy: 0.9071\n",
      "Epoch 41/666\n",
      "39/39 [==============================] - 2s 60ms/step - loss: 0.1579 - accuracy: 0.9639 - val_loss: 0.6804 - val_accuracy: 0.9263\n",
      "Epoch 42/666\n",
      "39/39 [==============================] - 2s 56ms/step - loss: 0.1274 - accuracy: 0.9728 - val_loss: 0.9195 - val_accuracy: 0.9295\n",
      "Epoch 43/666\n",
      "39/39 [==============================] - 2s 56ms/step - loss: 0.1263 - accuracy: 0.9679 - val_loss: 0.2332 - val_accuracy: 0.9327\n",
      "Epoch 44/666\n",
      "39/39 [==============================] - 2s 53ms/step - loss: 0.1216 - accuracy: 0.9736 - val_loss: 0.3653 - val_accuracy: 0.9327\n",
      "Epoch 45/666\n",
      "39/39 [==============================] - 2s 53ms/step - loss: 0.1164 - accuracy: 0.9776 - val_loss: 0.2115 - val_accuracy: 0.9455\n",
      "Epoch 46/666\n",
      "39/39 [==============================] - 2s 53ms/step - loss: 0.1180 - accuracy: 0.9752 - val_loss: 0.3525 - val_accuracy: 0.9359\n",
      "Epoch 47/666\n",
      "39/39 [==============================] - 2s 53ms/step - loss: 0.1067 - accuracy: 0.9784 - val_loss: 0.1453 - val_accuracy: 0.9519\n",
      "Epoch 00047: early stopping\n"
     ]
    }
   ],
   "source": [
    "from keras import backend as K\n",
    "from keras import layers as L\n",
    "from keras.models import Model,load_model\n",
    "from keras.regularizers import l2\n",
    "from keras.callbacks import ModelCheckpoint,ReduceLROnPlateau,EarlyStopping\n",
    "\n",
    "K.clear_session()\n",
    "\n",
    "model_ckpt = ModelCheckpoint('BrailleNet.h5',save_best_only=True)\n",
    "reduce_lr = ReduceLROnPlateau(patience=8,verbose=0)\n",
    "early_stop = EarlyStopping(patience=15,verbose=1)\n",
    "\n",
    "entry = L.Input(shape=(28,28,3))\n",
    "x = L.SeparableConv2D(64,(3,3),activation='relu')(entry)\n",
    "x = L.MaxPooling2D((2,2))(x)\n",
    "x = L.SeparableConv2D(128,(3,3),activation='relu')(x)\n",
    "x = L.MaxPooling2D((2,2))(x)\n",
    "x = L.SeparableConv2D(256,(2,2),activation='relu')(x)\n",
    "x = L.GlobalMaxPooling2D()(x)\n",
    "x = L.Dense(256)(x)\n",
    "x = L.LeakyReLU()(x)\n",
    "x = L.Dense(64,kernel_regularizer=l2(2e-4))(x)\n",
    "x = L.LeakyReLU()(x)\n",
    "x = L.Dense(26,activation='softmax')(x)\n",
    "\n",
    "model = Model(entry,x)\n",
    "model.compile(loss='categorical_crossentropy',optimizer='adam',metrics=['accuracy'])\n",
    "\n",
    "history = model.fit_generator(train_generator,\n",
    "                              validation_data=val_generator,\n",
    "                              epochs=666,\n",
    "                              callbacks=[model_ckpt,reduce_lr,early_stop],\n",
    "                              verbose=1)"
   ]
  },
  {
   "cell_type": "code",
   "execution_count": 5,
   "metadata": {
    "execution": {
     "iopub.execute_input": "2023-12-20T09:44:05.745834Z",
     "iopub.status.busy": "2023-12-20T09:44:05.745581Z",
     "iopub.status.idle": "2023-12-20T09:44:05.757283Z",
     "shell.execute_reply": "2023-12-20T09:44:05.755047Z",
     "shell.execute_reply.started": "2023-12-20T09:44:05.745787Z"
    }
   },
   "outputs": [
    {
     "name": "stdout",
     "output_type": "stream",
     "text": [
      "Model: \"model_1\"\n",
      "_________________________________________________________________\n",
      "Layer (type)                 Output Shape              Param #   \n",
      "=================================================================\n",
      "input_1 (InputLayer)         (None, 28, 28, 3)         0         \n",
      "_________________________________________________________________\n",
      "separable_conv2d_1 (Separabl (None, 26, 26, 64)        283       \n",
      "_________________________________________________________________\n",
      "max_pooling2d_1 (MaxPooling2 (None, 13, 13, 64)        0         \n",
      "_________________________________________________________________\n",
      "separable_conv2d_2 (Separabl (None, 11, 11, 128)       8896      \n",
      "_________________________________________________________________\n",
      "max_pooling2d_2 (MaxPooling2 (None, 5, 5, 128)         0         \n",
      "_________________________________________________________________\n",
      "separable_conv2d_3 (Separabl (None, 4, 4, 256)         33536     \n",
      "_________________________________________________________________\n",
      "global_max_pooling2d_1 (Glob (None, 256)               0         \n",
      "_________________________________________________________________\n",
      "dense_1 (Dense)              (None, 256)               65792     \n",
      "_________________________________________________________________\n",
      "leaky_re_lu_1 (LeakyReLU)    (None, 256)               0         \n",
      "_________________________________________________________________\n",
      "dense_2 (Dense)              (None, 64)                16448     \n",
      "_________________________________________________________________\n",
      "leaky_re_lu_2 (LeakyReLU)    (None, 64)                0         \n",
      "_________________________________________________________________\n",
      "dense_3 (Dense)              (None, 26)                1690      \n",
      "=================================================================\n",
      "Total params: 126,645\n",
      "Trainable params: 126,645\n",
      "Non-trainable params: 0\n",
      "_________________________________________________________________\n"
     ]
    }
   ],
   "source": [
    "model.summary()"
   ]
  },
  {
   "cell_type": "code",
   "execution_count": 6,
   "metadata": {
    "execution": {
     "iopub.execute_input": "2023-12-20T09:44:05.758531Z",
     "iopub.status.busy": "2023-12-20T09:44:05.758342Z",
     "iopub.status.idle": "2023-12-20T09:44:06.769039Z",
     "shell.execute_reply": "2023-12-20T09:44:06.768391Z",
     "shell.execute_reply.started": "2023-12-20T09:44:05.758500Z"
    }
   },
   "outputs": [
    {
     "name": "stdout",
     "output_type": "stream",
     "text": [
      "model accuracy: 0.9135\n"
     ]
    }
   ],
   "source": [
    "model = load_model('BrailleNet.h5')\n",
    "acc = model.evaluate_generator(val_generator)[1]\n",
    "print('model accuracy: {}'.format(round(acc,4)))"
   ]
  },
  {
   "cell_type": "code",
   "execution_count": 7,
   "metadata": {
    "execution": {
     "iopub.execute_input": "2023-12-20T09:44:06.770399Z",
     "iopub.status.busy": "2023-12-20T09:44:06.770101Z",
     "iopub.status.idle": "2023-12-20T09:44:07.164809Z",
     "shell.execute_reply": "2023-12-20T09:44:07.163797Z",
     "shell.execute_reply.started": "2023-12-20T09:44:06.770297Z"
    }
   },
   "outputs": [
    {
     "data": {
      "image/png": "[encoded data removed]",
      "text/plain": [
       "<Figure size 432x288 with 1 Axes>"
      ]
     },
     "metadata": {
      "needs_background": "light"
     },
     "output_type": "display_data"
    },
    {
     "data": {
      "image/png": "[encoded data removed]",
      "text/plain": [
       "<Figure size 432x288 with 1 Axes>"
      ]
     },
     "metadata": {
      "needs_background": "light"
     },
     "output_type": "display_data"
    },
    {
     "data": {
      "text/plain": [
       "<Figure size 432x288 with 0 Axes>"
      ]
     },
     "metadata": {},
     "output_type": "display_data"
    }
   ],
   "source": [
    "import matplotlib.pyplot as plt\n",
    "plt.plot(history.history['loss'], label='train loss')\n",
    "plt.plot(history.history['val_loss'], label='val loss')\n",
    "plt.legend()\n",
    "plt.show()\n",
    "plt.savefig('LossVal_loss')\n",
    "\n",
    "# plot the accuracy\n",
    "plt.plot(history.history['accuracy'], label='train acc')\n",
    "plt.plot(history.history['val_accuracy'], label='val acc')\n",
    "plt.legend()\n",
    "plt.show()\n",
    "plt.savefig('AccVal_acc')"
   ]
  },
  {
   "cell_type": "code",
   "execution_count": 8,
   "metadata": {
    "execution": {
     "iopub.execute_input": "2023-12-20T09:44:07.166492Z",
     "iopub.status.busy": "2023-12-20T09:44:07.166063Z",
     "iopub.status.idle": "2023-12-20T09:44:07.509453Z",
     "shell.execute_reply": "2023-12-20T09:44:07.508726Z",
     "shell.execute_reply.started": "2023-12-20T09:44:07.166443Z"
    }
   },
   "outputs": [
    {
     "data": {
      "text/plain": [
       "array([[8.86672581e-07, 2.14265454e-14, 5.93166902e-08, ...,\n",
       "        6.63643004e-06, 3.72805839e-15, 3.21890740e-03],\n",
       "       [1.27287405e-02, 5.24733623e-05, 9.50311642e-06, ...,\n",
       "        1.70570402e-08, 2.58954251e-12, 6.80051171e-09],\n",
       "       [9.68776666e-19, 3.71396981e-18, 3.75970552e-22, ...,\n",
       "        3.46146976e-07, 4.82941505e-06, 7.81337803e-07],\n",
       "       ...,\n",
       "       [2.95592400e-07, 3.07040386e-06, 7.03951120e-01, ...,\n",
       "        1.60700165e-23, 9.79928366e-35, 1.56759467e-11],\n",
       "       [2.51153142e-06, 1.18253361e-07, 1.06642403e-06, ...,\n",
       "        1.37120511e-08, 4.13737412e-17, 1.03951823e-02],\n",
       "       [1.14240020e-17, 4.22281601e-14, 1.02268054e-13, ...,\n",
       "        5.37907797e-16, 1.54437183e-27, 1.74129652e-11]], dtype=float32)"
      ]
     },
     "execution_count": 8,
     "metadata": {},
     "output_type": "execute_result"
    }
   ],
   "source": [
    "pred = model.predict(val_generator)\n",
    "pred"
   ]
  },
  {
   "cell_type": "code",
   "execution_count": 9,
   "metadata": {
    "execution": {
     "iopub.execute_input": "2023-12-20T09:44:07.513549Z",
     "iopub.status.busy": "2023-12-20T09:44:07.512527Z",
     "iopub.status.idle": "2023-12-20T09:44:07.524294Z",
     "shell.execute_reply": "2023-12-20T09:44:07.523604Z",
     "shell.execute_reply.started": "2023-12-20T09:44:07.513499Z"
    }
   },
   "outputs": [],
   "source": [
    "from tensorflow.keras.preprocessing import image\n",
    "img=image.load_img('dataset/Braille Dataset/Braille Dataset/a1.JPG0dim.jpg')"
   ]
  },
  {
   "cell_type": "code",
   "execution_count": 10,
   "metadata": {
    "execution": {
     "iopub.execute_input": "2023-12-20T09:44:07.527142Z",
     "iopub.status.busy": "2023-12-20T09:44:07.526786Z",
     "iopub.status.idle": "2023-12-20T09:44:07.672934Z",
     "shell.execute_reply": "2023-12-20T09:44:07.672273Z",
     "shell.execute_reply.started": "2023-12-20T09:44:07.527072Z"
    }
   },
   "outputs": [
    {
     "data": {
      "text/plain": [
       "<matplotlib.image.AxesImage at 0x78ec6430bd68>"
      ]
     },
     "execution_count": 10,
     "metadata": {},
     "output_type": "execute_result"
    },
    {
     "data": {
      "image/png": "[encoded data removed]",
      "text/plain": [
       "<Figure size 432x288 with 1 Axes>"
      ]
     },
     "metadata": {
      "needs_background": "light"
     },
     "output_type": "display_data"
    }
   ],
   "source": [
    "plt.imshow(img)"
   ]
  },
  {
   "cell_type": "code",
   "execution_count": 11,
   "metadata": {
    "execution": {
     "iopub.execute_input": "2023-12-20T09:44:07.674632Z",
     "iopub.status.busy": "2023-12-20T09:44:07.674173Z",
     "iopub.status.idle": "2023-12-20T09:44:07.682088Z",
     "shell.execute_reply": "2023-12-20T09:44:07.681430Z",
     "shell.execute_reply.started": "2023-12-20T09:44:07.674580Z"
    }
   },
   "outputs": [
    {
     "data": {
      "text/plain": [
       "array([[[194., 194., 194.],\n",
       "        [204., 204., 204.],\n",
       "        [206., 206., 206.],\n",
       "        ...,\n",
       "        [196., 196., 196.],\n",
       "        [196., 196., 196.],\n",
       "        [196., 196., 196.]],\n",
       "\n",
       "       [[193., 193., 193.],\n",
       "        [177., 177., 177.],\n",
       "        [188., 188., 188.],\n",
       "        ...,\n",
       "        [196., 196., 196.],\n",
       "        [196., 196., 196.],\n",
       "        [196., 196., 196.]],\n",
       "\n",
       "       [[199., 199., 199.],\n",
       "        [203., 203., 203.],\n",
       "        [195., 195., 195.],\n",
       "        ...,\n",
       "        [196., 196., 196.],\n",
       "        [196., 196., 196.],\n",
       "        [196., 196., 196.]],\n",
       "\n",
       "       ...,\n",
       "\n",
       "       [[196., 196., 196.],\n",
       "        [197., 197., 197.],\n",
       "        [195., 195., 195.],\n",
       "        ...,\n",
       "        [196., 196., 196.],\n",
       "        [196., 196., 196.],\n",
       "        [196., 196., 196.]],\n",
       "\n",
       "       [[197., 197., 197.],\n",
       "        [198., 198., 198.],\n",
       "        [198., 198., 198.],\n",
       "        ...,\n",
       "        [196., 196., 196.],\n",
       "        [196., 196., 196.],\n",
       "        [196., 196., 196.]],\n",
       "\n",
       "       [[194., 194., 194.],\n",
       "        [196., 196., 196.],\n",
       "        [197., 197., 197.],\n",
       "        ...,\n",
       "        [196., 196., 196.],\n",
       "        [196., 196., 196.],\n",
       "        [196., 196., 196.]]], dtype=float32)"
      ]
     },
     "execution_count": 11,
     "metadata": {},
     "output_type": "execute_result"
    }
   ],
   "source": [
    "x=image.img_to_array(img)\n",
    "x"
   ]
  },
  {
   "cell_type": "code",
   "execution_count": 12,
   "metadata": {
    "execution": {
     "iopub.execute_input": "2023-12-20T09:44:07.683919Z",
     "iopub.status.busy": "2023-12-20T09:44:07.683432Z",
     "iopub.status.idle": "2023-12-20T09:44:07.693650Z",
     "shell.execute_reply": "2023-12-20T09:44:07.692723Z",
     "shell.execute_reply.started": "2023-12-20T09:44:07.683871Z"
    }
   },
   "outputs": [
    {
     "data": {
      "text/plain": [
       "(28, 28, 3)"
      ]
     },
     "execution_count": 12,
     "metadata": {},
     "output_type": "execute_result"
    }
   ],
   "source": [
    "x.shape"
   ]
  },
  {
   "cell_type": "code",
   "execution_count": 13,
   "metadata": {
    "execution": {
     "iopub.execute_input": "2023-12-20T09:44:07.695896Z",
     "iopub.status.busy": "2023-12-20T09:44:07.695439Z",
     "iopub.status.idle": "2023-12-20T09:44:07.705640Z",
     "shell.execute_reply": "2023-12-20T09:44:07.704770Z",
     "shell.execute_reply.started": "2023-12-20T09:44:07.695844Z"
    }
   },
   "outputs": [
    {
     "data": {
      "text/plain": [
       "array([[9.8667961e-01, 1.7275304e-05, 3.7763387e-04, 1.9522693e-10,\n",
       "        5.6219840e-05, 4.8356775e-05, 4.1345664e-12, 8.4848226e-09,\n",
       "        3.6924132e-03, 1.8280493e-11, 8.9941155e-03, 3.1631004e-08,\n",
       "        5.7942607e-06, 1.1871873e-09, 1.5060030e-07, 4.0847299e-06,\n",
       "        6.2879693e-13, 5.3087418e-10, 9.2791233e-05, 4.2963894e-13,\n",
       "        3.0574942e-05, 2.6732602e-10, 4.6131783e-17, 1.0071855e-06,\n",
       "        6.4736797e-12, 3.4555416e-08]], dtype=float32)"
      ]
     },
     "execution_count": 13,
     "metadata": {},
     "output_type": "execute_result"
    }
   ],
   "source": [
    "x=np.expand_dims(x,axis=0)\n",
    "model.predict(x)"
   ]
  },
  {
   "cell_type": "code",
   "execution_count": 14,
   "metadata": {
    "execution": {
     "iopub.execute_input": "2023-12-20T09:44:07.707726Z",
     "iopub.status.busy": "2023-12-20T09:44:07.707212Z",
     "iopub.status.idle": "2023-12-20T09:44:07.722781Z",
     "shell.execute_reply": "2023-12-20T09:44:07.722091Z",
     "shell.execute_reply.started": "2023-12-20T09:44:07.707675Z"
    }
   },
   "outputs": [
    {
     "data": {
      "text/plain": [
       "array([0])"
      ]
     },
     "execution_count": 14,
     "metadata": {},
     "output_type": "execute_result"
    }
   ],
   "source": [
    "a=np.argmax(model.predict(x), axis=1)\n",
    "a"
   ]
  },
  {
   "cell_type": "code",
   "execution_count": 15,
   "metadata": {
    "execution": {
     "iopub.execute_input": "2023-12-20T09:46:22.064863Z",
     "iopub.status.busy": "2023-12-20T09:46:22.064254Z",
     "iopub.status.idle": "2023-12-20T09:47:54.160146Z",
     "shell.execute_reply": "2023-12-20T09:47:54.158874Z",
     "shell.execute_reply.started": "2023-12-20T09:46:22.064728Z"
    }
   },
   "outputs": [
    {
     "name": "stdout",
     "output_type": "stream",
     "text": [
      "Epoch 1/666\n",
      "39/39 [==============================] - 4s 104ms/step - loss: 4.3970 - accuracy: 0.0513 - val_loss: 3.2766 - val_accuracy: 0.0513\n",
      "Epoch 2/666\n",
      "39/39 [==============================] - 3s 71ms/step - loss: 3.3662 - accuracy: 0.0833 - val_loss: 3.2714 - val_accuracy: 0.0385\n",
      "Epoch 3/666\n",
      "39/39 [==============================] - 3s 73ms/step - loss: 3.2053 - accuracy: 0.1130 - val_loss: 3.2567 - val_accuracy: 0.0449\n",
      "Epoch 4/666\n",
      "39/39 [==============================] - 3s 78ms/step - loss: 3.0140 - accuracy: 0.1418 - val_loss: 3.2105 - val_accuracy: 0.0513\n",
      "Epoch 5/666\n",
      "39/39 [==============================] - 3s 75ms/step - loss: 2.8013 - accuracy: 0.2083 - val_loss: 3.0770 - val_accuracy: 0.1635\n",
      "Epoch 6/666\n",
      "39/39 [==============================] - 3s 76ms/step - loss: 2.6057 - accuracy: 0.2260 - val_loss: 3.1049 - val_accuracy: 0.2468\n",
      "Epoch 7/666\n",
      "39/39 [==============================] - 3s 78ms/step - loss: 2.3925 - accuracy: 0.2804 - val_loss: 2.9515 - val_accuracy: 0.2724\n",
      "Epoch 8/666\n",
      "39/39 [==============================] - 3s 71ms/step - loss: 2.2808 - accuracy: 0.3237 - val_loss: 2.9063 - val_accuracy: 0.2724\n",
      "Epoch 9/666\n",
      "39/39 [==============================] - 3s 71ms/step - loss: 2.0717 - accuracy: 0.3726 - val_loss: 2.6480 - val_accuracy: 0.3846\n",
      "Epoch 10/666\n",
      "39/39 [==============================] - 3s 72ms/step - loss: 1.8869 - accuracy: 0.4223 - val_loss: 2.7409 - val_accuracy: 0.3397\n",
      "Epoch 11/666\n",
      "39/39 [==============================] - 3s 70ms/step - loss: 1.8354 - accuracy: 0.4439 - val_loss: 2.2415 - val_accuracy: 0.6090\n",
      "Epoch 12/666\n",
      "39/39 [==============================] - 3s 70ms/step - loss: 1.6852 - accuracy: 0.4752 - val_loss: 1.9508 - val_accuracy: 0.5769\n",
      "Epoch 13/666\n",
      "39/39 [==============================] - 3s 70ms/step - loss: 1.4907 - accuracy: 0.5280 - val_loss: 1.6761 - val_accuracy: 0.5801\n",
      "Epoch 14/666\n",
      "39/39 [==============================] - 3s 75ms/step - loss: 1.3725 - accuracy: 0.5681 - val_loss: 1.4719 - val_accuracy: 0.6538\n",
      "Epoch 15/666\n",
      "39/39 [==============================] - 3s 74ms/step - loss: 1.3133 - accuracy: 0.6074 - val_loss: 0.6881 - val_accuracy: 0.7596\n",
      "Epoch 16/666\n",
      "39/39 [==============================] - 3s 71ms/step - loss: 1.3081 - accuracy: 0.5865 - val_loss: 1.2981 - val_accuracy: 0.6667\n",
      "Epoch 17/666\n",
      "39/39 [==============================] - 3s 70ms/step - loss: 1.1480 - accuracy: 0.6434 - val_loss: 0.8124 - val_accuracy: 0.7628\n",
      "Epoch 18/666\n",
      "39/39 [==============================] - 3s 69ms/step - loss: 1.1105 - accuracy: 0.6667 - val_loss: 0.5747 - val_accuracy: 0.7500\n",
      "Epoch 19/666\n",
      "39/39 [==============================] - 3s 71ms/step - loss: 1.0467 - accuracy: 0.6851 - val_loss: 0.5195 - val_accuracy: 0.7917\n",
      "Epoch 20/666\n",
      "39/39 [==============================] - 3s 72ms/step - loss: 0.9682 - accuracy: 0.6955 - val_loss: 0.5680 - val_accuracy: 0.7821\n",
      "Epoch 21/666\n",
      "39/39 [==============================] - 3s 71ms/step - loss: 0.9723 - accuracy: 0.7011 - val_loss: 0.4671 - val_accuracy: 0.8013\n",
      "Epoch 22/666\n",
      "39/39 [==============================] - 3s 69ms/step - loss: 0.9581 - accuracy: 0.7107 - val_loss: 0.4546 - val_accuracy: 0.8365\n",
      "Epoch 23/666\n",
      "39/39 [==============================] - 3s 71ms/step - loss: 0.9536 - accuracy: 0.7035 - val_loss: 0.5015 - val_accuracy: 0.8429\n",
      "Epoch 24/666\n",
      "39/39 [==============================] - 3s 74ms/step - loss: 0.8261 - accuracy: 0.7596 - val_loss: 0.3865 - val_accuracy: 0.8301\n",
      "Epoch 25/666\n",
      "39/39 [==============================] - 3s 77ms/step - loss: 0.8253 - accuracy: 0.7492 - val_loss: 0.7831 - val_accuracy: 0.8429\n",
      "Epoch 26/666\n",
      "39/39 [==============================] - 3s 77ms/step - loss: 0.7832 - accuracy: 0.7556 - val_loss: 0.5518 - val_accuracy: 0.8622\n",
      "Epoch 27/666\n",
      "39/39 [==============================] - 3s 71ms/step - loss: 0.6943 - accuracy: 0.7829 - val_loss: 0.7040 - val_accuracy: 0.8301\n",
      "Epoch 28/666\n",
      "39/39 [==============================] - 3s 74ms/step - loss: 0.7216 - accuracy: 0.7772 - val_loss: 0.6873 - val_accuracy: 0.8141\n",
      "Epoch 29/666\n",
      "39/39 [==============================] - 3s 72ms/step - loss: 0.7018 - accuracy: 0.7804 - val_loss: 0.5892 - val_accuracy: 0.8782\n",
      "Epoch 30/666\n",
      "39/39 [==============================] - 3s 73ms/step - loss: 0.6395 - accuracy: 0.7997 - val_loss: 0.4138 - val_accuracy: 0.8814\n",
      "Epoch 31/666\n",
      "39/39 [==============================] - 3s 71ms/step - loss: 0.6115 - accuracy: 0.8077 - val_loss: 0.2900 - val_accuracy: 0.8558\n",
      "Epoch 32/666\n",
      "39/39 [==============================] - 3s 70ms/step - loss: 0.6451 - accuracy: 0.7869 - val_loss: 0.4873 - val_accuracy: 0.8462\n",
      "Epoch 33/666\n",
      "39/39 [==============================] - 3s 69ms/step - loss: 0.6252 - accuracy: 0.7933 - val_loss: 0.2586 - val_accuracy: 0.8590\n",
      "Epoch 34/666\n",
      "39/39 [==============================] - 3s 72ms/step - loss: 0.5674 - accuracy: 0.8205 - val_loss: 0.1639 - val_accuracy: 0.9006\n",
      "Epoch 35/666\n",
      "39/39 [==============================] - 3s 71ms/step - loss: 0.5479 - accuracy: 0.8325 - val_loss: 0.2946 - val_accuracy: 0.9038\n",
      "Epoch 36/666\n",
      "39/39 [==============================] - 3s 74ms/step - loss: 0.5308 - accuracy: 0.8261 - val_loss: 0.1794 - val_accuracy: 0.8942\n",
      "Epoch 37/666\n",
      "39/39 [==============================] - 3s 78ms/step - loss: 0.5668 - accuracy: 0.8253 - val_loss: 0.3455 - val_accuracy: 0.8526\n",
      "Epoch 38/666\n",
      "39/39 [==============================] - 3s 74ms/step - loss: 0.5246 - accuracy: 0.8373 - val_loss: 0.2923 - val_accuracy: 0.8718\n",
      "Epoch 39/666\n",
      "39/39 [==============================] - 3s 71ms/step - loss: 0.4744 - accuracy: 0.8518 - val_loss: 0.1892 - val_accuracy: 0.9135\n",
      "Epoch 40/666\n",
      "39/39 [==============================] - 3s 72ms/step - loss: 0.5057 - accuracy: 0.8438 - val_loss: 0.4193 - val_accuracy: 0.9167\n",
      "Epoch 41/666\n",
      "39/39 [==============================] - 3s 72ms/step - loss: 0.4367 - accuracy: 0.8678 - val_loss: 0.3530 - val_accuracy: 0.9231\n",
      "Epoch 42/666\n",
      "39/39 [==============================] - 3s 72ms/step - loss: 0.4347 - accuracy: 0.8734 - val_loss: 0.5416 - val_accuracy: 0.9167\n",
      "Epoch 43/666\n",
      "39/39 [==============================] - 3s 71ms/step - loss: 0.4024 - accuracy: 0.8822 - val_loss: 0.1575 - val_accuracy: 0.9327\n",
      "Epoch 44/666\n",
      "39/39 [==============================] - 3s 71ms/step - loss: 0.3895 - accuracy: 0.8686 - val_loss: 0.2243 - val_accuracy: 0.9455\n",
      "Epoch 45/666\n",
      "39/39 [==============================] - 3s 72ms/step - loss: 0.3838 - accuracy: 0.8878 - val_loss: 0.2126 - val_accuracy: 0.9391\n",
      "Epoch 46/666\n",
      "39/39 [==============================] - 3s 72ms/step - loss: 0.3446 - accuracy: 0.9038 - val_loss: 0.3390 - val_accuracy: 0.9199\n",
      "Epoch 47/666\n",
      "39/39 [==============================] - 3s 73ms/step - loss: 0.3494 - accuracy: 0.9014 - val_loss: 0.0608 - val_accuracy: 0.9231\n",
      "Epoch 48/666\n",
      "39/39 [==============================] - 3s 80ms/step - loss: 0.3280 - accuracy: 0.8950 - val_loss: 0.0591 - val_accuracy: 0.9359\n",
      "Epoch 49/666\n",
      "39/39 [==============================] - 3s 74ms/step - loss: 0.3267 - accuracy: 0.8998 - val_loss: 0.5051 - val_accuracy: 0.9519\n",
      "Epoch 50/666\n",
      "39/39 [==============================] - 3s 71ms/step - loss: 0.3034 - accuracy: 0.9054 - val_loss: 0.3727 - val_accuracy: 0.9327\n",
      "Epoch 51/666\n",
      "39/39 [==============================] - 3s 72ms/step - loss: 0.3113 - accuracy: 0.9054 - val_loss: 0.1223 - val_accuracy: 0.9423\n",
      "Epoch 52/666\n",
      "39/39 [==============================] - 3s 72ms/step - loss: 0.2954 - accuracy: 0.9111 - val_loss: 0.2746 - val_accuracy: 0.9167\n",
      "Epoch 53/666\n",
      "39/39 [==============================] - 3s 73ms/step - loss: 0.3257 - accuracy: 0.9030 - val_loss: 0.0992 - val_accuracy: 0.9455\n",
      "Epoch 54/666\n",
      "39/39 [==============================] - 3s 71ms/step - loss: 0.2902 - accuracy: 0.9199 - val_loss: 0.1432 - val_accuracy: 0.9487\n",
      "Epoch 55/666\n",
      "39/39 [==============================] - 3s 72ms/step - loss: 0.2769 - accuracy: 0.9279 - val_loss: 0.0711 - val_accuracy: 0.9231\n",
      "Epoch 56/666\n",
      "39/39 [==============================] - 3s 72ms/step - loss: 0.2765 - accuracy: 0.9223 - val_loss: 0.4641 - val_accuracy: 0.9423\n",
      "Epoch 57/666\n",
      "39/39 [==============================] - 3s 73ms/step - loss: 0.2988 - accuracy: 0.9079 - val_loss: 0.0356 - val_accuracy: 0.9551\n",
      "Epoch 58/666\n",
      "39/39 [==============================] - 3s 73ms/step - loss: 0.2878 - accuracy: 0.9103 - val_loss: 0.1084 - val_accuracy: 0.9327\n",
      "Epoch 59/666\n",
      "39/39 [==============================] - 3s 84ms/step - loss: 0.2936 - accuracy: 0.9127 - val_loss: 0.0759 - val_accuracy: 0.9487\n",
      "Epoch 60/666\n",
      "39/39 [==============================] - 3s 72ms/step - loss: 0.2850 - accuracy: 0.9239 - val_loss: 0.2177 - val_accuracy: 0.9487\n",
      "Epoch 61/666\n",
      "39/39 [==============================] - 3s 72ms/step - loss: 0.2737 - accuracy: 0.9295 - val_loss: 0.2950 - val_accuracy: 0.9487\n",
      "Epoch 62/666\n",
      "39/39 [==============================] - 3s 75ms/step - loss: 0.2762 - accuracy: 0.9199 - val_loss: 0.1232 - val_accuracy: 0.9487\n",
      "Epoch 63/666\n",
      "39/39 [==============================] - 3s 71ms/step - loss: 0.2787 - accuracy: 0.9159 - val_loss: 0.0668 - val_accuracy: 0.9455\n",
      "Epoch 64/666\n",
      "39/39 [==============================] - 3s 71ms/step - loss: 0.2694 - accuracy: 0.9271 - val_loss: 0.0634 - val_accuracy: 0.9391\n",
      "Epoch 65/666\n",
      "39/39 [==============================] - 3s 70ms/step - loss: 0.2542 - accuracy: 0.9199 - val_loss: 0.2498 - val_accuracy: 0.9199\n",
      "Epoch 66/666\n",
      "39/39 [==============================] - 3s 72ms/step - loss: 0.2607 - accuracy: 0.9215 - val_loss: 0.1409 - val_accuracy: 0.9391\n",
      "Epoch 67/666\n",
      "39/39 [==============================] - 3s 72ms/step - loss: 0.2679 - accuracy: 0.9191 - val_loss: 0.3790 - val_accuracy: 0.9455\n",
      "Epoch 68/666\n",
      "39/39 [==============================] - 3s 72ms/step - loss: 0.2480 - accuracy: 0.9319 - val_loss: 0.0547 - val_accuracy: 0.9391\n",
      "Epoch 69/666\n",
      "39/39 [==============================] - 3s 73ms/step - loss: 0.2707 - accuracy: 0.9231 - val_loss: 0.2215 - val_accuracy: 0.9423\n",
      "Epoch 70/666\n",
      "39/39 [==============================] - 3s 82ms/step - loss: 0.2731 - accuracy: 0.9279 - val_loss: 0.1056 - val_accuracy: 0.9359\n",
      "Epoch 71/666\n",
      "39/39 [==============================] - 3s 72ms/step - loss: 0.2633 - accuracy: 0.9111 - val_loss: 0.0653 - val_accuracy: 0.9391\n",
      "Epoch 72/666\n",
      "39/39 [==============================] - 3s 71ms/step - loss: 0.2723 - accuracy: 0.9223 - val_loss: 0.2583 - val_accuracy: 0.9359\n",
      "Epoch 00072: early stopping\n",
      "Model: \"model_1\"\n",
      "_________________________________________________________________\n",
      "Layer (type)                 Output Shape              Param #   \n",
      "=================================================================\n",
      "input_1 (InputLayer)         (None, 28, 28, 3)         0         \n",
      "_________________________________________________________________\n",
      "separable_conv2d_1 (Separabl (None, 26, 26, 64)        283       \n",
      "_________________________________________________________________\n",
      "batch_normalization_1 (Batch (None, 26, 26, 64)        256       \n",
      "_________________________________________________________________\n",
      "max_pooling2d_1 (MaxPooling2 (None, 13, 13, 64)        0         \n",
      "_________________________________________________________________\n",
      "separable_conv2d_2 (Separabl (None, 11, 11, 128)       8896      \n",
      "_________________________________________________________________\n",
      "batch_normalization_2 (Batch (None, 11, 11, 128)       512       \n",
      "_________________________________________________________________\n",
      "max_pooling2d_2 (MaxPooling2 (None, 5, 5, 128)         0         \n",
      "_________________________________________________________________\n",
      "separable_conv2d_3 (Separabl (None, 4, 4, 256)         33536     \n",
      "_________________________________________________________________\n",
      "batch_normalization_3 (Batch (None, 4, 4, 256)         1024      \n",
      "_________________________________________________________________\n",
      "global_max_pooling2d_1 (Glob (None, 256)               0         \n",
      "_________________________________________________________________\n",
      "dense_1 (Dense)              (None, 256)               65792     \n",
      "_________________________________________________________________\n",
      "leaky_re_lu_1 (LeakyReLU)    (None, 256)               0         \n",
      "_________________________________________________________________\n",
      "dropout_1 (Dropout)          (None, 256)               0         \n",
      "_________________________________________________________________\n",
      "dense_2 (Dense)              (None, 64)                16448     \n",
      "_________________________________________________________________\n",
      "leaky_re_lu_2 (LeakyReLU)    (None, 64)                0         \n",
      "_________________________________________________________________\n",
      "dropout_2 (Dropout)          (None, 64)                0         \n",
      "_________________________________________________________________\n",
      "dense_3 (Dense)              (None, 26)                1690      \n",
      "=================================================================\n",
      "Total params: 128,437\n",
      "Trainable params: 127,541\n",
      "Non-trainable params: 896\n",
      "_________________________________________________________________\n"
     ]
    }
   ],
   "source": [
    "from keras.layers import Dropout, BatchNormalization\n",
    "\n",
    "K.clear_session()\n",
    "\n",
    "model_ckpt = ModelCheckpoint('BrailleNet.h5', save_best_only=True)\n",
    "reduce_lr = ReduceLROnPlateau(patience=8, verbose=0)\n",
    "early_stop = EarlyStopping(patience=15, verbose=1)\n",
    "\n",
    "entry = L.Input(shape=(28, 28, 3))\n",
    "x = L.SeparableConv2D(64, (3, 3), activation='relu')(entry)\n",
    "x = L.BatchNormalization()(x)\n",
    "x = L.MaxPooling2D((2, 2))(x)\n",
    "\n",
    "x = L.SeparableConv2D(128, (3, 3), activation='relu')(x)\n",
    "x = L.BatchNormalization()(x)\n",
    "x = L.MaxPooling2D((2, 2))(x)\n",
    "\n",
    "x = L.SeparableConv2D(256, (2, 2), activation='relu')(x)\n",
    "x = L.BatchNormalization()(x)\n",
    "x = L.GlobalMaxPooling2D()(x)\n",
    "\n",
    "x = L.Dense(256)(x)\n",
    "x = L.LeakyReLU()(x)\n",
    "x = L.Dropout(0.5)(x)\n",
    "\n",
    "x = L.Dense(64, kernel_regularizer=l2(2e-4))(x)\n",
    "x = L.LeakyReLU()(x)\n",
    "x = L.Dropout(0.5)(x)\n",
    "\n",
    "x = L.Dense(26, activation='softmax')(x)\n",
    "\n",
    "model = Model(entry, x)\n",
    "model.compile(loss='categorical_crossentropy', optimizer='adam', metrics=['accuracy'])\n",
    "\n",
    "history = model.fit_generator(train_generator,\n",
    "                              validation_data=val_generator,\n",
    "                              epochs=25,\n",
    "                              callbacks=[model_ckpt, reduce_lr, early_stop],\n",
    "                              verbose=1)\n",
    "\n",
    "model.summary()"
   ]
  },
  {
   "cell_type": "code",
   "execution_count": 16,
   "metadata": {
    "execution": {
     "iopub.execute_input": "2023-12-20T09:48:12.057016Z",
     "iopub.status.busy": "2023-12-20T09:48:12.056707Z",
     "iopub.status.idle": "2023-12-20T09:48:14.012675Z",
     "shell.execute_reply": "2023-12-20T09:48:14.011821Z",
     "shell.execute_reply.started": "2023-12-20T09:48:12.056973Z"
    }
   },
   "outputs": [
    {
     "name": "stdout",
     "output_type": "stream",
     "text": [
      "Validation Accuracy: 93.91%\n"
     ]
    }
   ],
   "source": [
    "# Load the trained model\n",
    "model = load_model('BrailleNet.h5')\n",
    "\n",
    "# Evaluate the model on the validation generator\n",
    "eval_results = model.evaluate_generator(val_generator)\n",
    "\n",
    "# Extract the accuracy from the evaluation results\n",
    "accuracy = eval_results[1]\n",
    "\n",
    "# Print the accuracy\n",
    "print('Validation Accuracy: {:.2%}'.format(accuracy))"
   ]
  },
  {
   "cell_type": "code",
   "execution_count": 17,
   "metadata": {
    "execution": {
     "iopub.execute_input": "2023-12-20T09:49:48.331736Z",
     "iopub.status.busy": "2023-12-20T09:49:48.331437Z",
     "iopub.status.idle": "2023-12-20T09:49:53.411957Z",
     "shell.execute_reply": "2023-12-20T09:49:53.410709Z",
     "shell.execute_reply.started": "2023-12-20T09:49:48.331696Z"
    }
   },
   "outputs": [
    {
     "data": {
      "image/png": "[encoded data removed]",
      "text/plain": [
       "<Figure size 720x576 with 2 Axes>"
      ]
     },
     "metadata": {
      "needs_background": "light"
     },
     "output_type": "display_data"
    }
   ],
   "source": [
    "from sklearn.metrics import confusion_matrix\n",
    "import seaborn as sns\n",
    "import matplotlib.pyplot as plt\n",
    "from sklearn.utils import class_weight\n",
    "\n",
    "# Load the trained model\n",
    "model = load_model('BrailleNet.h5')\n",
    "\n",
    "# Predict labels for the validation set\n",
    "y_pred = model.predict_generator(val_generator).argmax(axis=1)\n",
    "\n",
    "# True labels for the validation set\n",
    "y_true = val_generator.classes\n",
    "\n",
    "# Calculate confusion matrix\n",
    "cm = confusion_matrix(y_true, y_pred)\n",
    "\n",
    "# Display the confusion matrix\n",
    "plt.figure(figsize=(10, 8))\n",
    "sns.heatmap(cm, annot=True, fmt='d', cmap='Blues', xticklabels=train_generator.class_indices.keys(),\n",
    "            yticklabels=train_generator.class_indices.keys())\n",
    "plt.xlabel('Predicted')\n",
    "plt.ylabel('True')\n",
    "plt.title('Confusion Matrix')\n",
    "plt.show()"
   ]
  },
  {
   "cell_type": "code",
   "execution_count": 18,
   "metadata": {
    "execution": {
     "iopub.execute_input": "2023-12-20T09:53:38.144108Z",
     "iopub.status.busy": "2023-12-20T09:53:38.143764Z",
     "iopub.status.idle": "2023-12-20T09:53:38.557660Z",
     "shell.execute_reply": "2023-12-20T09:53:38.556368Z",
     "shell.execute_reply.started": "2023-12-20T09:53:38.144050Z"
    }
   },
   "outputs": [
    {
     "data": {
      "image/png": "[encoded data removed]",
      "text/plain": [
       "<Figure size 864x432 with 2 Axes>"
      ]
     },
     "metadata": {
      "needs_background": "light"
     },
     "output_type": "display_data"
    }
   ],
   "source": [
    "import matplotlib.pyplot as plt\n",
    "\n",
    "# Assuming 'history' contains the training history obtained during model training\n",
    "\n",
    "# Plot the training and validation loss\n",
    "plt.figure(figsize=(12, 6))\n",
    "\n",
    "plt.subplot(1, 2, 1)\n",
    "plt.plot(history.history['loss'], label='Training Loss')\n",
    "plt.plot(history.history['val_loss'], label='Validation Loss')\n",
    "plt.title('Training and Validation Loss')\n",
    "plt.xlabel('Epoch')\n",
    "plt.ylabel('Loss')\n",
    "plt.legend()\n",
    "\n",
    "# Plot the training and validation accuracy\n",
    "plt.subplot(1, 2, 2)\n",
    "plt.plot(history.history['accuracy'], label='Training Accuracy')\n",
    "plt.plot(history.history['val_accuracy'], label='Validation Accuracy')\n",
    "plt.title('Training and Validation Accuracy')\n",
    "plt.xlabel('Epoch')\n",
    "plt.ylabel('Accuracy')\n",
    "plt.legend()\n",
    "\n",
    "plt.tight_layout()\n",
    "plt.show()"
   ]
  }
 ],
 "metadata": {
  "kaggle": {
   "accelerator": "none",
   "dataSources": [
    {
     "datasetId": 452244,
     "sourceId": 853989,
     "sourceType": "datasetVersion"
    }
   ],
   "dockerImageVersionId": 29844,
   "isGpuEnabled": false,
   "isInternetEnabled": false,
   "language": "python",
   "sourceType": "notebook"
  },
  "kernelspec": {
   "display_name": "Python 3 (ipykernel)",
   "language": "python",
   "name": "python3"
  },
  "language_info": {
   "codemirror_mode": {
    "name": "ipython",
    "version": 3
   },
   "file_extension": ".py",
   "mimetype": "text/x-python",
   "name": "python",
   "nbconvert_exporter": "python",
   "pygments_lexer": "ipython3",
   "version": "3.11.5"
  }
 },
 "nbformat": 4,
 "nbformat_minor": 4
}
